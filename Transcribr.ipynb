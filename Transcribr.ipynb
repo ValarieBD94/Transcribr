{
  "nbformat": 4,
  "nbformat_minor": 0,
  "metadata": {
    "colab": {
      "provenance": [],
      "authorship_tag": "ABX9TyPh3v5qsgku7QQObgYIGCr8",
      "include_colab_link": true
    },
    "kernelspec": {
      "name": "python3",
      "display_name": "Python 3"
    },
    "language_info": {
      "name": "python"
    }
  },
  "cells": [
    {
      "cell_type": "markdown",
      "metadata": {
        "id": "view-in-github",
        "colab_type": "text"
      },
      "source": [
        "<a href=\"https://colab.research.google.com/github/ValarieBD94/Transcribr/blob/main/Transcribr.ipynb\" target=\"_parent\"><img src=\"https://colab.research.google.com/assets/colab-badge.svg\" alt=\"Open In Colab\"/></a>"
      ]
    },
    {
      "cell_type": "code",
      "execution_count": null,
      "metadata": {
        "id": "uJJIHNxuA0A1"
      },
      "outputs": [],
      "source": []
    },
    {
      "cell_type": "code",
      "source": [
        "# Install pydub and SpeechRecognition\n",
        "!pip install pydub SpeechRecognition\n",
        "\n",
        "# Import libraries\n",
        "from pydub import AudioSegment\n",
        "import speech_recognition as sr\n",
        "\n"
      ],
      "metadata": {
        "id": "C4jS7QetA1tm",
        "colab": {
          "base_uri": "https://localhost:8080/"
        },
        "outputId": "9b040e32-db34-4669-f75e-7200b36d10b8"
      },
      "execution_count": 1,
      "outputs": [
        {
          "output_type": "stream",
          "name": "stdout",
          "text": [
            "Collecting pydub\n",
            "  Downloading pydub-0.25.1-py2.py3-none-any.whl.metadata (1.4 kB)\n",
            "Collecting SpeechRecognition\n",
            "  Downloading SpeechRecognition-3.12.0-py3-none-any.whl.metadata (30 kB)\n",
            "Requirement already satisfied: typing-extensions in /usr/local/lib/python3.10/dist-packages (from SpeechRecognition) (4.12.2)\n",
            "Downloading pydub-0.25.1-py2.py3-none-any.whl (32 kB)\n",
            "Downloading SpeechRecognition-3.12.0-py3-none-any.whl (32.8 MB)\n",
            "\u001b[2K   \u001b[90m━━━━━━━━━━━━━━━━━━━━━━━━━━━━━━━━━━━━━━━━\u001b[0m \u001b[32m32.8/32.8 MB\u001b[0m \u001b[31m15.3 MB/s\u001b[0m eta \u001b[36m0:00:00\u001b[0m\n",
            "\u001b[?25hInstalling collected packages: pydub, SpeechRecognition\n",
            "Successfully installed SpeechRecognition-3.12.0 pydub-0.25.1\n"
          ]
        }
      ]
    },
    {
      "cell_type": "code",
      "source": [
        "# Load audio file\n",
        "audio = AudioSegment.from_file(\"path/to/your/audiofile.mp3\")\n",
        "\n",
        "# Export to WAV\n",
        "audio.export(\"output.wav\", format=\"wav\")\n",
        "\n",
        "# Initialize recognizer\n",
        "recognizer = sr.Recognizer()\n",
        "\n",
        "# Load audio file\n",
        "with sr.AudioFile(\"output.wav\") as source:\n",
        "    audio_data = recognizer.record(source)\n",
        "\n",
        "# Transcribe audio\n",
        "text = recognizer.recognize_google(audio_data)\n",
        "print(text)\n",
        "\n",
        "\n"
      ],
      "metadata": {
        "colab": {
          "base_uri": "https://localhost:8080/",
          "height": 391
        },
        "collapsed": true,
        "id": "1Ynx9-GnHtw_",
        "outputId": "247c8312-41d8-4e14-aa7f-75509768a7dc"
      },
      "execution_count": 3,
      "outputs": [
        {
         
      ]
    }
  ]
}
